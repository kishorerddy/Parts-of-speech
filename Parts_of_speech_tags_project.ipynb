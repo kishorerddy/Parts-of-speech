{
  "cells": [
    {
      "cell_type": "code",
      "execution_count": 2,
      "id": "0314d938",
      "metadata": {
        "id": "0314d938"
      },
      "outputs": [],
      "source": [
        "import pandas as pd\n",
        "import numpy as np\n",
        "from tensorflow.keras.preprocessing.text import Tokenizer\n",
        "from keras.utils import pad_sequences,to_categorical\n",
        "from keras.models import Sequential, Model\n",
        "from keras.layers import Dense, SimpleRNN, LSTM, GRU, Input, InputLayer, Embedding, TimeDistributed,Bidirectional\n",
        "from sklearn.model_selection import train_test_split\n",
        "import nltk\n",
        "from nltk.corpus import stopwords,brown, treebank\n",
        "from nltk.tokenize import word_tokenize\n",
        "import warnings\n",
        "warnings.filterwarnings('ignore')\n",
        "import pickle\n",
        "from sklearn.metrics import accuracy_score,log_loss"
      ]
    },
    {
      "cell_type": "code",
      "execution_count": 3,
      "id": "dd362d93",
      "metadata": {
        "colab": {
          "base_uri": "https://localhost:8080/"
        },
        "id": "dd362d93",
        "outputId": "a3841c34-2f38-4f5e-9b33-86199135b4d1"
      },
      "outputs": [
        {
          "output_type": "stream",
          "name": "stderr",
          "text": [
            "[nltk_data] Downloading package treebank to /root/nltk_data...\n",
            "[nltk_data]   Unzipping corpora/treebank.zip.\n"
          ]
        },
        {
          "output_type": "execute_result",
          "data": {
            "text/plain": [
              "True"
            ]
          },
          "metadata": {},
          "execution_count": 3
        }
      ],
      "source": [
        "nltk.download('treebank')"
      ]
    },
    {
      "cell_type": "code",
      "execution_count": 4,
      "id": "bc5e26b2",
      "metadata": {
        "colab": {
          "base_uri": "https://localhost:8080/"
        },
        "id": "bc5e26b2",
        "outputId": "6137fe40-c5f4-4860-9ef3-3c413c7fce6a"
      },
      "outputs": [
        {
          "output_type": "stream",
          "name": "stderr",
          "text": [
            "[nltk_data] Downloading package brown to /root/nltk_data...\n",
            "[nltk_data]   Unzipping corpora/brown.zip.\n"
          ]
        },
        {
          "output_type": "execute_result",
          "data": {
            "text/plain": [
              "True"
            ]
          },
          "metadata": {},
          "execution_count": 4
        }
      ],
      "source": [
        "\n",
        "\n",
        "import nltk\n",
        "nltk.download('brown')\n"
      ]
    },
    {
      "cell_type": "code",
      "execution_count": 5,
      "id": "7d743002",
      "metadata": {
        "colab": {
          "base_uri": "https://localhost:8080/"
        },
        "id": "7d743002",
        "outputId": "5ef4e270-1f7c-4856-8430-ebe95b3c1059"
      },
      "outputs": [
        {
          "output_type": "stream",
          "name": "stderr",
          "text": [
            "[nltk_data] Downloading package universal_tagset to /root/nltk_data...\n",
            "[nltk_data]   Unzipping taggers/universal_tagset.zip.\n"
          ]
        },
        {
          "output_type": "execute_result",
          "data": {
            "text/plain": [
              "True"
            ]
          },
          "metadata": {},
          "execution_count": 5
        }
      ],
      "source": [
        "nltk.download('universal_tagset')"
      ]
    },
    {
      "cell_type": "code",
      "execution_count": 6,
      "id": "726f3b5f",
      "metadata": {
        "id": "726f3b5f"
      },
      "outputs": [],
      "source": [
        "d1=brown.tagged_sents(tagset='universal')"
      ]
    },
    {
      "cell_type": "code",
      "execution_count": 7,
      "id": "abda058c",
      "metadata": {
        "colab": {
          "base_uri": "https://localhost:8080/"
        },
        "id": "abda058c",
        "outputId": "2f621851-3b60-43c9-d32d-6409f912e1a8"
      },
      "outputs": [
        {
          "output_type": "execute_result",
          "data": {
            "text/plain": [
              "57340"
            ]
          },
          "metadata": {},
          "execution_count": 7
        }
      ],
      "source": [
        "len(d1)"
      ]
    },
    {
      "cell_type": "code",
      "execution_count": 8,
      "id": "3ef86695",
      "metadata": {
        "id": "3ef86695"
      },
      "outputs": [],
      "source": [
        "\n",
        "d2=treebank.tagged_sents(tagset='universal')"
      ]
    },
    {
      "cell_type": "code",
      "execution_count": 9,
      "id": "9d3c6a9e",
      "metadata": {
        "colab": {
          "base_uri": "https://localhost:8080/"
        },
        "id": "9d3c6a9e",
        "outputId": "b2472668-0d67-492f-af61-7acac220b9eb"
      },
      "outputs": [
        {
          "output_type": "execute_result",
          "data": {
            "text/plain": [
              "3914"
            ]
          },
          "metadata": {},
          "execution_count": 9
        }
      ],
      "source": [
        "len(d2)"
      ]
    },
    {
      "cell_type": "code",
      "execution_count": 10,
      "id": "dd1aaee4",
      "metadata": {
        "id": "dd1aaee4"
      },
      "outputs": [],
      "source": [
        "data=d1+d2"
      ]
    },
    {
      "cell_type": "code",
      "execution_count": 11,
      "id": "78078341",
      "metadata": {
        "colab": {
          "base_uri": "https://localhost:8080/"
        },
        "id": "78078341",
        "outputId": "bf263b00-9114-4792-ccde-608dbf39e9b3"
      },
      "outputs": [
        {
          "output_type": "execute_result",
          "data": {
            "text/plain": [
              "61254"
            ]
          },
          "metadata": {},
          "execution_count": 11
        }
      ],
      "source": [
        "len(data)"
      ]
    },
    {
      "cell_type": "code",
      "execution_count": 12,
      "id": "9f1d1dcf",
      "metadata": {
        "id": "9f1d1dcf"
      },
      "outputs": [],
      "source": [
        "x=[]\n",
        "y=[]\n",
        "\n",
        "for i in data:\n",
        "    x1=[]\n",
        "    y1=[]\n",
        "    for j in i:\n",
        "        x1.append(j[0])\n",
        "        y1.append(j[1])\n",
        "    x.append(x1)\n",
        "    y.append(y1)"
      ]
    },
    {
      "cell_type": "code",
      "execution_count": 13,
      "id": "2c511a95",
      "metadata": {
        "colab": {
          "base_uri": "https://localhost:8080/"
        },
        "id": "2c511a95",
        "outputId": "f0eeedea-7565-4614-be60-1186157b3a45"
      },
      "outputs": [
        {
          "output_type": "execute_result",
          "data": {
            "text/plain": [
              "61254"
            ]
          },
          "metadata": {},
          "execution_count": 13
        }
      ],
      "source": [
        "len(x)"
      ]
    },
    {
      "cell_type": "code",
      "execution_count": 14,
      "id": "0abcea69",
      "metadata": {
        "colab": {
          "base_uri": "https://localhost:8080/"
        },
        "id": "0abcea69",
        "outputId": "c3eb5650-f7d2-491c-ce43-128124fafafb"
      },
      "outputs": [
        {
          "output_type": "execute_result",
          "data": {
            "text/plain": [
              "61254"
            ]
          },
          "metadata": {},
          "execution_count": 14
        }
      ],
      "source": [
        "len(y)"
      ]
    },
    {
      "cell_type": "code",
      "execution_count": 15,
      "id": "27dde51b",
      "metadata": {
        "colab": {
          "base_uri": "https://localhost:8080/"
        },
        "id": "27dde51b",
        "outputId": "0324dd00-e744-428d-a10c-ab3cc4a02b1a"
      },
      "outputs": [
        {
          "output_type": "stream",
          "name": "stdout",
          "text": [
            "0\n"
          ]
        }
      ],
      "source": [
        "\n",
        "\n",
        "c=0\n",
        "\n",
        "for i in range(len(x)):\n",
        "    if(len(x[i])==len(y[i])):\n",
        "        pass\n",
        "    else:\n",
        "        c+=1\n",
        "\n",
        "print(c)\n",
        ""
      ]
    },
    {
      "cell_type": "code",
      "execution_count": 16,
      "id": "ad4150a0",
      "metadata": {
        "id": "ad4150a0"
      },
      "outputs": [],
      "source": [
        "tk_x=Tokenizer(oov_token='UNK')\n",
        "tk_x.fit_on_texts(x)\n",
        "\n",
        "tk_y=Tokenizer(oov_token='oov',)\n",
        "tk_y.fit_on_texts(y)"
      ]
    },
    {
      "cell_type": "code",
      "execution_count": 17,
      "id": "68d91fbf",
      "metadata": {
        "colab": {
          "base_uri": "https://localhost:8080/"
        },
        "id": "68d91fbf",
        "outputId": "f73254df-04ec-4ae8-dd16-ebfbb55e1619"
      },
      "outputs": [
        {
          "output_type": "execute_result",
          "data": {
            "text/plain": [
              "53233"
            ]
          },
          "metadata": {},
          "execution_count": 17
        }
      ],
      "source": [
        "len(tk_x.word_index)"
      ]
    },
    {
      "cell_type": "code",
      "execution_count": 18,
      "id": "ac3c4ab7",
      "metadata": {
        "scrolled": true,
        "colab": {
          "base_uri": "https://localhost:8080/"
        },
        "id": "ac3c4ab7",
        "outputId": "3c1c7c45-8800-4a48-ed27-619c9f5907c2"
      },
      "outputs": [
        {
          "output_type": "execute_result",
          "data": {
            "text/plain": [
              "13"
            ]
          },
          "metadata": {},
          "execution_count": 18
        }
      ],
      "source": [
        "len(tk_y.word_index)"
      ]
    },
    {
      "cell_type": "code",
      "execution_count": 19,
      "id": "f04d5bcb",
      "metadata": {
        "scrolled": true,
        "colab": {
          "base_uri": "https://localhost:8080/"
        },
        "id": "f04d5bcb",
        "outputId": "2a7c7e8b-1575-45b4-a7ea-790d82775630"
      },
      "outputs": [
        {
          "output_type": "execute_result",
          "data": {
            "text/plain": [
              "{'oov': 1,\n",
              " 'noun': 2,\n",
              " 'verb': 3,\n",
              " '.': 4,\n",
              " 'adp': 5,\n",
              " 'det': 6,\n",
              " 'adj': 7,\n",
              " 'adv': 8,\n",
              " 'pron': 9,\n",
              " 'conj': 10,\n",
              " 'prt': 11,\n",
              " 'num': 12,\n",
              " 'x': 13}"
            ]
          },
          "metadata": {},
          "execution_count": 19
        }
      ],
      "source": [
        "tk_y.word_index"
      ]
    },
    {
      "cell_type": "code",
      "execution_count": 20,
      "id": "917346d5",
      "metadata": {
        "colab": {
          "base_uri": "https://localhost:8080/"
        },
        "id": "917346d5",
        "outputId": "57281c85-ef07-4613-948c-ebdd4b708f79"
      },
      "outputs": [
        {
          "output_type": "execute_result",
          "data": {
            "text/plain": [
              "{'UNK': 1,\n",
              " 'the': 2,\n",
              " ',': 3,\n",
              " '.': 4,\n",
              " 'of': 5,\n",
              " 'and': 6,\n",
              " 'to': 7,\n",
              " 'a': 8,\n",
              " 'in': 9,\n",
              " 'that': 10,\n",
              " 'is': 11,\n",
              " 'for': 12,\n",
              " 'was': 13,\n",
              " 'he': 14,\n",
              " '``': 15,\n",
              " \"''\": 16,\n",
              " 'it': 17,\n",
              " 'with': 18,\n",
              " 'as': 19,\n",
              " 'on': 20,\n",
              " 'his': 21,\n",
              " 'be': 22,\n",
              " 'at': 23,\n",
              " 'by': 24,\n",
              " ';': 25,\n",
              " 'this': 26,\n",
              " 'had': 27,\n",
              " 'i': 28,\n",
              " 'are': 29,\n",
              " 'from': 30,\n",
              " 'not': 31,\n",
              " '?': 32,\n",
              " 'but': 33,\n",
              " 'or': 34,\n",
              " 'have': 35,\n",
              " 'an': 36,\n",
              " 'they': 37,\n",
              " 'which': 38,\n",
              " '--': 39,\n",
              " 'were': 40,\n",
              " 'one': 41,\n",
              " 'you': 42,\n",
              " 'all': 43,\n",
              " 'her': 44,\n",
              " 'she': 45,\n",
              " 'would': 46,\n",
              " 'their': 47,\n",
              " 'there': 48,\n",
              " 'has': 49,\n",
              " 'we': 50,\n",
              " 'him': 51,\n",
              " 'been': 52,\n",
              " 'said': 53,\n",
              " 'will': 54,\n",
              " ')': 55,\n",
              " '(': 56,\n",
              " 'when': 57,\n",
              " 'more': 58,\n",
              " 'who': 59,\n",
              " 'if': 60,\n",
              " 'no': 61,\n",
              " 'its': 62,\n",
              " 'out': 63,\n",
              " 'so': 64,\n",
              " 'up': 65,\n",
              " 'about': 66,\n",
              " 'what': 67,\n",
              " 'than': 68,\n",
              " 'new': 69,\n",
              " ':': 70,\n",
              " 'into': 71,\n",
              " 'can': 72,\n",
              " 'them': 73,\n",
              " 'other': 74,\n",
              " 'only': 75,\n",
              " 'some': 76,\n",
              " 'could': 77,\n",
              " 'time': 78,\n",
              " 'these': 79,\n",
              " '!': 80,\n",
              " 'two': 81,\n",
              " 'may': 82,\n",
              " 'first': 83,\n",
              " 'any': 84,\n",
              " 'do': 85,\n",
              " 'then': 86,\n",
              " 'such': 87,\n",
              " 'now': 88,\n",
              " 'like': 89,\n",
              " 'my': 90,\n",
              " 'over': 91,\n",
              " 'our': 92,\n",
              " 'even': 93,\n",
              " 'most': 94,\n",
              " 'also': 95,\n",
              " 'man': 96,\n",
              " 'mr.': 97,\n",
              " 'me': 98,\n",
              " 'made': 99,\n",
              " 'after': 100,\n",
              " 'many': 101,\n",
              " '*-1': 102,\n",
              " '0': 103,\n",
              " 'did': 104,\n",
              " 'before': 105,\n",
              " 'years': 106,\n",
              " 'must': 107,\n",
              " 'through': 108,\n",
              " 'because': 109,\n",
              " 'much': 110,\n",
              " 'af': 111,\n",
              " 'back': 112,\n",
              " 'where': 113,\n",
              " '*': 114,\n",
              " 'your': 115,\n",
              " 'down': 116,\n",
              " 'well': 117,\n",
              " 'way': 118,\n",
              " 'should': 119,\n",
              " 'each': 120,\n",
              " 'just': 121,\n",
              " 'those': 122,\n",
              " 'people': 123,\n",
              " 'year': 124,\n",
              " 'make': 125,\n",
              " \"'s\": 126,\n",
              " 'how': 127,\n",
              " 'little': 128,\n",
              " 'too': 129,\n",
              " 'state': 130,\n",
              " 'good': 131,\n",
              " 'very': 132,\n",
              " 'still': 133,\n",
              " 'world': 134,\n",
              " 'own': 135,\n",
              " '*t*-1': 136,\n",
              " 'see': 137,\n",
              " 'get': 138,\n",
              " 'work': 139,\n",
              " 'under': 140,\n",
              " 'last': 141,\n",
              " 'long': 142,\n",
              " 'both': 143,\n",
              " 'here': 144,\n",
              " 'men': 145,\n",
              " 'between': 146,\n",
              " 'while': 147,\n",
              " 'being': 148,\n",
              " '*u*': 149,\n",
              " 'life': 150,\n",
              " 'another': 151,\n",
              " 'same': 152,\n",
              " 'never': 153,\n",
              " '$': 154,\n",
              " 'might': 155,\n",
              " 'day': 156,\n",
              " 'us': 157,\n",
              " 'know': 158,\n",
              " 'old': 159,\n",
              " 'great': 160,\n",
              " 'since': 161,\n",
              " 'off': 162,\n",
              " 'take': 163,\n",
              " 'three': 164,\n",
              " 'against': 165,\n",
              " 'come': 166,\n",
              " 'house': 167,\n",
              " 'right': 168,\n",
              " 'go': 169,\n",
              " 'used': 170,\n",
              " 'came': 171,\n",
              " 'american': 172,\n",
              " 'few': 173,\n",
              " 'use': 174,\n",
              " 'during': 175,\n",
              " 'states': 176,\n",
              " 'without': 177,\n",
              " 'himself': 178,\n",
              " 'mrs.': 179,\n",
              " 'again': 180,\n",
              " 'around': 181,\n",
              " 'place': 182,\n",
              " 'small': 183,\n",
              " 'however': 184,\n",
              " 'million': 185,\n",
              " 'say': 186,\n",
              " '1': 187,\n",
              " 'home': 188,\n",
              " 'found': 189,\n",
              " 'company': 190,\n",
              " 'high': 191,\n",
              " 'president': 192,\n",
              " 'part': 193,\n",
              " 'does': 194,\n",
              " 'program': 195,\n",
              " 'general': 196,\n",
              " 'school': 197,\n",
              " 'thought': 198,\n",
              " 'went': 199,\n",
              " 'number': 200,\n",
              " 'once': 201,\n",
              " 'every': 202,\n",
              " 'government': 203,\n",
              " 'upon': 204,\n",
              " 'united': 205,\n",
              " 'got': 206,\n",
              " 'until': 207,\n",
              " 'left': 208,\n",
              " \"don't\": 209,\n",
              " 'business': 210,\n",
              " 'less': 211,\n",
              " '2': 212,\n",
              " 'course': 213,\n",
              " 'always': 214,\n",
              " 'away': 215,\n",
              " 'public': 216,\n",
              " 'war': 217,\n",
              " 'though': 218,\n",
              " 'something': 219,\n",
              " 'next': 220,\n",
              " 'fact': 221,\n",
              " 'put': 222,\n",
              " 'group': 223,\n",
              " 'far': 224,\n",
              " 'think': 225,\n",
              " 'almost': 226,\n",
              " 'took': 227,\n",
              " 'water': 228,\n",
              " 'enough': 229,\n",
              " '%': 230,\n",
              " 'set': 231,\n",
              " 'yet': 232,\n",
              " 'end': 233,\n",
              " 'hand': 234,\n",
              " 'system': 235,\n",
              " 'head': 236,\n",
              " 'days': 237,\n",
              " 'better': 238,\n",
              " 'big': 239,\n",
              " 'told': 240,\n",
              " 'city': 241,\n",
              " 'point': 242,\n",
              " 'called': 243,\n",
              " 'nothing': 244,\n",
              " 'night': 245,\n",
              " 'going': 246,\n",
              " 'why': 247,\n",
              " 'says': 248,\n",
              " 'find': 249,\n",
              " 'several': 250,\n",
              " 'among': 251,\n",
              " 'look': 252,\n",
              " 'later': 253,\n",
              " 'asked': 254,\n",
              " 'give': 255,\n",
              " 'york': 256,\n",
              " 'early': 257,\n",
              " 'national': 258,\n",
              " 'eyes': 259,\n",
              " 'young': 260,\n",
              " \"didn't\": 261,\n",
              " 'possible': 262,\n",
              " 'knew': 263,\n",
              " 'john': 264,\n",
              " 'order': 265,\n",
              " 'often': 266,\n",
              " 'face': 267,\n",
              " 'let': 268,\n",
              " 'toward': 269,\n",
              " 'case': 270,\n",
              " 'rather': 271,\n",
              " 'second': 272,\n",
              " \"'\": 273,\n",
              " 'large': 274,\n",
              " 'side': 275,\n",
              " 'given': 276,\n",
              " 'form': 277,\n",
              " 'social': 278,\n",
              " 'important': 279,\n",
              " 'white': 280,\n",
              " 'room': 281,\n",
              " 'interest': 282,\n",
              " 'u.s.': 283,\n",
              " 'things': 284,\n",
              " 'become': 285,\n",
              " 'four': 286,\n",
              " 'per': 287,\n",
              " 'present': 288,\n",
              " 'need': 289,\n",
              " 'within': 290,\n",
              " '*-2': 291,\n",
              " 'country': 292,\n",
              " 'power': 293,\n",
              " 'looked': 294,\n",
              " 'least': 295,\n",
              " 'best': 296,\n",
              " 'church': 297,\n",
              " 'along': 298,\n",
              " 'children': 299,\n",
              " 'felt': 300,\n",
              " 'saw': 301,\n",
              " 'development': 302,\n",
              " 'want': 303,\n",
              " 'family': 304,\n",
              " 'help': 305,\n",
              " 'ever': 306,\n",
              " 'members': 307,\n",
              " 'light': 308,\n",
              " 'service': 309,\n",
              " 'although': 310,\n",
              " 'thing': 311,\n",
              " '*t*-2': 312,\n",
              " 'began': 313,\n",
              " 'problem': 314,\n",
              " 'market': 315,\n",
              " 'law': 316,\n",
              " 'seemed': 317,\n",
              " 'certain': 318,\n",
              " 'others': 319,\n",
              " 'different': 320,\n",
              " 'area': 321,\n",
              " 'week': 322,\n",
              " 'turned': 323,\n",
              " 'open': 324,\n",
              " 'kind': 325,\n",
              " 'mind': 326,\n",
              " 'money': 327,\n",
              " \"n't\": 328,\n",
              " 'done': 329,\n",
              " 'federal': 330,\n",
              " 'matter': 331,\n",
              " 'times': 332,\n",
              " 'perhaps': 333,\n",
              " 'thus': 334,\n",
              " 'sense': 335,\n",
              " 'example': 336,\n",
              " 'stock': 337,\n",
              " 'action': 338,\n",
              " 'door': 339,\n",
              " 'god': 340,\n",
              " 'five': 341,\n",
              " 'means': 342,\n",
              " 'whether': 343,\n",
              " 'above': 344,\n",
              " 'board': 345,\n",
              " 'local': 346,\n",
              " 'today': 347,\n",
              " 'line': 348,\n",
              " 'itself': 349,\n",
              " 'whole': 350,\n",
              " 'past': 351,\n",
              " 'already': 352,\n",
              " '3': 353,\n",
              " 'human': 354,\n",
              " 'act': 355,\n",
              " \"it's\": 356,\n",
              " 'show': 357,\n",
              " 'name': 358,\n",
              " 'information': 359,\n",
              " 'history': 360,\n",
              " 'half': 361,\n",
              " 'taken': 362,\n",
              " 'across': 363,\n",
              " 'department': 364,\n",
              " 'gave': 365,\n",
              " 'hands': 366,\n",
              " 'either': 367,\n",
              " 'major': 368,\n",
              " 'anything': 369,\n",
              " 'having': 370,\n",
              " 'period': 371,\n",
              " 'car': 372,\n",
              " 'economic': 373,\n",
              " 'seen': 374,\n",
              " 'really': 375,\n",
              " 'feet': 376,\n",
              " 'street': 377,\n",
              " 'held': 378,\n",
              " 'quite': 379,\n",
              " 'experience': 380,\n",
              " 'field': 381,\n",
              " 'ago': 382,\n",
              " 'death': 383,\n",
              " 'common': 384,\n",
              " 'themselves': 385,\n",
              " 'south': 386,\n",
              " 'keep': 387,\n",
              " 'office': 388,\n",
              " 'political': 389,\n",
              " 'word': 390,\n",
              " 'words': 391,\n",
              " 'body': 392,\n",
              " 'court': 393,\n",
              " 'free': 394,\n",
              " 'together': 395,\n",
              " 'real': 396,\n",
              " 'probably': 397,\n",
              " 'college': 398,\n",
              " 'making': 399,\n",
              " 'problems': 400,\n",
              " 'shall': 401,\n",
              " 'question': 402,\n",
              " 'sure': 403,\n",
              " 'tell': 404,\n",
              " \"i'm\": 405,\n",
              " 'result': 406,\n",
              " 'seems': 407,\n",
              " 'air': 408,\n",
              " 'special': 409,\n",
              " 'whose': 410,\n",
              " 'became': 411,\n",
              " 'behind': 412,\n",
              " 'close': 413,\n",
              " 'change': 414,\n",
              " 'available': 415,\n",
              " 'brought': 416,\n",
              " 'study': 417,\n",
              " 'cannot': 418,\n",
              " 'known': 419,\n",
              " 'force': 420,\n",
              " 'job': 421,\n",
              " 'plan': 422,\n",
              " 'rate': 423,\n",
              " 'position': 424,\n",
              " 'future': 425,\n",
              " 'individual': 426,\n",
              " 'miss': 427,\n",
              " 'reason': 428,\n",
              " 'recent': 429,\n",
              " 'heard': 430,\n",
              " 'six': 431,\n",
              " 'full': 432,\n",
              " '&': 433,\n",
              " 'voice': 434,\n",
              " 'moment': 435,\n",
              " 'west': 436,\n",
              " 'months': 437,\n",
              " 'areas': 438,\n",
              " 'cost': 439,\n",
              " 'students': 440,\n",
              " 'society': 441,\n",
              " 'university': 442,\n",
              " 'boy': 443,\n",
              " 'control': 444,\n",
              " 'turn': 445,\n",
              " 'community': 446,\n",
              " 'age': 447,\n",
              " 'wanted': 448,\n",
              " 'expected': 449,\n",
              " 'am': 450,\n",
              " 'seem': 451,\n",
              " 'true': 452,\n",
              " 'following': 453,\n",
              " 'policy': 454,\n",
              " 'further': 455,\n",
              " 'total': 456,\n",
              " 'clear': 457,\n",
              " 'level': 458,\n",
              " 'center': 459,\n",
              " 'woman': 460,\n",
              " 'able': 461,\n",
              " 'necessary': 462,\n",
              " 'effect': 463,\n",
              " 'love': 464,\n",
              " 'sometimes': 465,\n",
              " 'provide': 466,\n",
              " 'wife': 467,\n",
              " 'run': 468,\n",
              " 'washington': 469,\n",
              " 'front': 470,\n",
              " 'feel': 471,\n",
              " 'strong': 472,\n",
              " 'increase': 473,\n",
              " 'short': 474,\n",
              " 'research': 475,\n",
              " 'education': 476,\n",
              " 'value': 477,\n",
              " 'party': 478,\n",
              " 'report': 479,\n",
              " '4': 480,\n",
              " 'land': 481,\n",
              " 'girl': 482,\n",
              " 'outside': 483,\n",
              " 'billion': 484,\n",
              " 'cut': 485,\n",
              " 'military': 486,\n",
              " 'mother': 487,\n",
              " 'evidence': 488,\n",
              " 'tax': 489,\n",
              " 'share': 490,\n",
              " 'music': 491,\n",
              " 'child': 492,\n",
              " 'stood': 493,\n",
              " 'class': 494,\n",
              " 'top': 495,\n",
              " 'industry': 496,\n",
              " 'usually': 497,\n",
              " 'figure': 498,\n",
              " 'america': 499,\n",
              " 'town': 500,\n",
              " 'morning': 501,\n",
              " 'believe': 502,\n",
              " 'hard': 503,\n",
              " 'pay': 504,\n",
              " 'private': 505,\n",
              " 'added': 506,\n",
              " 'issue': 507,\n",
              " 'soon': 508,\n",
              " 'higher': 509,\n",
              " 'sound': 510,\n",
              " 'leave': 511,\n",
              " 'art': 512,\n",
              " 'sales': 513,\n",
              " 'personal': 514,\n",
              " 'type': 515,\n",
              " 'women': 516,\n",
              " 'century': 517,\n",
              " 'including': 518,\n",
              " 'process': 519,\n",
              " 'north': 520,\n",
              " 'situation': 521,\n",
              " 'black': 522,\n",
              " 'return': 523,\n",
              " 'union': 524,\n",
              " 'near': 525,\n",
              " 'various': 526,\n",
              " 'trade': 527,\n",
              " 'nor': 528,\n",
              " 'third': 529,\n",
              " 'idea': 530,\n",
              " 'international': 531,\n",
              " 'book': 532,\n",
              " 'therefore': 533,\n",
              " 'dr.': 534,\n",
              " 'lines': 535,\n",
              " 'section': 536,\n",
              " 'play': 537,\n",
              " 'schools': 538,\n",
              " 'mean': 539,\n",
              " 'pressure': 540,\n",
              " '10': 541,\n",
              " 'longer': 542,\n",
              " 'costs': 543,\n",
              " 'support': 544,\n",
              " 'red': 545,\n",
              " 'english': 546,\n",
              " 'needed': 547,\n",
              " 'road': 548,\n",
              " 'secretary': 549,\n",
              " 'alone': 550,\n",
              " 'modern': 551,\n",
              " 'started': 552,\n",
              " 'minutes': 553,\n",
              " 'surface': 554,\n",
              " 'greater': 555,\n",
              " 'table': 556,\n",
              " 'peace': 557,\n",
              " 'late': 558,\n",
              " 'earlier': 559,\n",
              " 'congress': 560,\n",
              " 'conditions': 561,\n",
              " 'growth': 562,\n",
              " 'gone': 563,\n",
              " 'view': 564,\n",
              " 'low': 565,\n",
              " 'nature': 566,\n",
              " 'move': 567,\n",
              " 'wall': 568,\n",
              " 'administration': 569,\n",
              " 'living': 570,\n",
              " 'call': 571,\n",
              " 'finally': 572,\n",
              " 'committee': 573,\n",
              " 'kept': 574,\n",
              " 'east': 575,\n",
              " 'space': 576,\n",
              " 'required': 577,\n",
              " 'nations': 578,\n",
              " 'trading': 579,\n",
              " 'fire': 580,\n",
              " 'amount': 581,\n",
              " 'coming': 582,\n",
              " 'ground': 583,\n",
              " 'wrote': 584,\n",
              " 'paper': 585,\n",
              " 'except': 586,\n",
              " 'basis': 587,\n",
              " 'complete': 588,\n",
              " 'terms': 589,\n",
              " 'data': 590,\n",
              " 'values': 591,\n",
              " 'everything': 592,\n",
              " 'lost': 593,\n",
              " 'taking': 594,\n",
              " 'person': 595,\n",
              " 'attention': 596,\n",
              " 'foreign': 597,\n",
              " 'spirit': 598,\n",
              " 'reached': 599,\n",
              " 'father': 600,\n",
              " \"that's\": 601,\n",
              " 'instead': 602,\n",
              " 'fine': 603,\n",
              " 'moved': 604,\n",
              " 'particular': 605,\n",
              " 'dark': 606,\n",
              " 'received': 607,\n",
              " 'read': 608,\n",
              " 'hope': 609,\n",
              " 'trying': 610,\n",
              " 'hours': 611,\n",
              " 'followed': 612,\n",
              " 'material': 613,\n",
              " 'due': 614,\n",
              " 'single': 615,\n",
              " 'makes': 616,\n",
              " 'according': 617,\n",
              " 'live': 618,\n",
              " 'defense': 619,\n",
              " 'forces': 620,\n",
              " 'looking': 621,\n",
              " \"i'll\": 622,\n",
              " 'price': 623,\n",
              " 'bill': 624,\n",
              " 'st.': 625,\n",
              " 'else': 626,\n",
              " 'beyond': 627,\n",
              " 'river': 628,\n",
              " 'developed': 629,\n",
              " 'miles': 630,\n",
              " 'brown': 631,\n",
              " 'below': 632,\n",
              " 'simply': 633,\n",
              " 'hold': 634,\n",
              " 'basic': 635,\n",
              " 'equipment': 636,\n",
              " 'stage': 637,\n",
              " 'england': 638,\n",
              " 'care': 639,\n",
              " 'heart': 640,\n",
              " 'central': 641,\n",
              " 'dead': 642,\n",
              " 'meeting': 643,\n",
              " \"couldn't\": 644,\n",
              " 'inside': 645,\n",
              " 'feeling': 646,\n",
              " 'beginning': 647,\n",
              " 'tried': 648,\n",
              " 'getting': 649,\n",
              " 'building': 650,\n",
              " 'points': 651,\n",
              " 'hundred': 652,\n",
              " 'month': 653,\n",
              " 'medical': 654,\n",
              " 'likely': 655,\n",
              " 'subject': 656,\n",
              " 'countries': 657,\n",
              " 'cold': 658,\n",
              " 'doing': 659,\n",
              " 'average': 660,\n",
              " 'fall': 661,\n",
              " '1960': 662,\n",
              " 'william': 663,\n",
              " 'especially': 664,\n",
              " 'results': 665,\n",
              " 'indeed': 666,\n",
              " 'chief': 667,\n",
              " 'cases': 668,\n",
              " 'actually': 669,\n",
              " 'floor': 670,\n",
              " 'production': 671,\n",
              " 'services': 672,\n",
              " 'similar': 673,\n",
              " 'increased': 674,\n",
              " 'island': 675,\n",
              " \"can't\": 676,\n",
              " 'friends': 677,\n",
              " 'rest': 678,\n",
              " 'difficult': 679,\n",
              " 'industrial': 680,\n",
              " 'sort': 681,\n",
              " 'son': 682,\n",
              " 'record': 683,\n",
              " 'shown': 684,\n",
              " 'bring': 685,\n",
              " 'picture': 686,\n",
              " 'food': 687,\n",
              " 'paid': 688,\n",
              " 'addition': 689,\n",
              " 'range': 690,\n",
              " 'working': 691,\n",
              " 'religious': 692,\n",
              " 'ten': 693,\n",
              " 'passed': 694,\n",
              " 'final': 695,\n",
              " 'particularly': 696,\n",
              " 'nation': 697,\n",
              " 'training': 698,\n",
              " 'simple': 699,\n",
              " 'funds': 700,\n",
              " 'association': 701,\n",
              " 'deal': 702,\n",
              " 'programs': 703,\n",
              " 'weeks': 704,\n",
              " 'test': 705,\n",
              " 'questions': 706,\n",
              " 'fiscal': 707,\n",
              " 'talk': 708,\n",
              " 'start': 709,\n",
              " 'property': 710,\n",
              " 'cent': 711,\n",
              " 'natural': 712,\n",
              " 'meet': 713,\n",
              " 'using': 714,\n",
              " '5': 715,\n",
              " 'county': 716,\n",
              " 'police': 717,\n",
              " 'volume': 718,\n",
              " 'considered': 719,\n",
              " 'shares': 720,\n",
              " 'story': 721,\n",
              " '30': 722,\n",
              " 'involved': 723,\n",
              " 'walked': 724,\n",
              " 'written': 725,\n",
              " 'needs': 726,\n",
              " 'difference': 727,\n",
              " 'nearly': 728,\n",
              " 'hear': 729,\n",
              " 'decided': 730,\n",
              " 'stand': 731,\n",
              " 'labor': 732,\n",
              " 'purpose': 733,\n",
              " 'reported': 734,\n",
              " 'effort': 735,\n",
              " 'statement': 736,\n",
              " 'bad': 737,\n",
              " 'answer': 738,\n",
              " '15': 739,\n",
              " 'suddenly': 740,\n",
              " \"wasn't\": 741,\n",
              " 'rates': 742,\n",
              " 'entire': 743,\n",
              " 'showed': 744,\n",
              " 'lower': 745,\n",
              " 'index': 746,\n",
              " 'bank': 747,\n",
              " 'neither': 748,\n",
              " 'charge': 749,\n",
              " 'whom': 750,\n",
              " 'reading': 751,\n",
              " 'hour': 752,\n",
              " 'letter': 753,\n",
              " 'income': 754,\n",
              " 'hall': 755,\n",
              " 'companies': 756,\n",
              " 'sent': 757,\n",
              " \"you're\": 758,\n",
              " 'sat': 759,\n",
              " 'prices': 760,\n",
              " 'former': 761,\n",
              " 'yesterday': 762,\n",
              " 'based': 763,\n",
              " 'western': 764,\n",
              " 'happened': 765,\n",
              " 'thinking': 766,\n",
              " 'earth': 767,\n",
              " 'blue': 768,\n",
              " 'plans': 769,\n",
              " 'district': 770,\n",
              " 'firm': 771,\n",
              " 'knowledge': 772,\n",
              " 'club': 773,\n",
              " 'lead': 774,\n",
              " 'recently': 775,\n",
              " 'hair': 776,\n",
              " 'size': 777,\n",
              " 'aid': 778,\n",
              " 'led': 779,\n",
              " 'soviet': 780,\n",
              " 'certainly': 781,\n",
              " 'member': 782,\n",
              " 'continued': 783,\n",
              " 'changes': 784,\n",
              " 'ideas': 785,\n",
              " 'directly': 786,\n",
              " 'rose': 787,\n",
              " 'generally': 788,\n",
              " 'additional': 789,\n",
              " 'anyone': 790,\n",
              " 'plant': 791,\n",
              " 'christian': 792,\n",
              " 'throughout': 793,\n",
              " 'ready': 794,\n",
              " 'series': 795,\n",
              " 'methods': 796,\n",
              " 'yes': 797,\n",
              " 'try': 798,\n",
              " 'square': 799,\n",
              " 'boys': 800,\n",
              " 'financial': 801,\n",
              " 'comes': 802,\n",
              " 'strength': 803,\n",
              " 'japanese': 804,\n",
              " 'cause': 805,\n",
              " 'march': 806,\n",
              " 'list': 807,\n",
              " 'southern': 808,\n",
              " 'french': 809,\n",
              " '8': 810,\n",
              " 'color': 811,\n",
              " 'kennedy': 812,\n",
              " 'summer': 813,\n",
              " 'method': 814,\n",
              " 'products': 815,\n",
              " 'chicago': 816,\n",
              " 'girls': 817,\n",
              " 'moral': 818,\n",
              " 'exchange': 819,\n",
              " 'provided': 820,\n",
              " 'population': 821,\n",
              " 'normal': 822,\n",
              " 'student': 823,\n",
              " 'organization': 824,\n",
              " 'appeared': 825,\n",
              " 'opened': 826,\n",
              " 'merely': 827,\n",
              " 'trial': 828,\n",
              " 'systems': 829,\n",
              " 'concern': 830,\n",
              " 'understand': 831,\n",
              " 'performance': 832,\n",
              " 'ran': 833,\n",
              " 'lay': 834,\n",
              " 'physical': 835,\n",
              " 'unit': 836,\n",
              " 'apparently': 837,\n",
              " 'trouble': 838,\n",
              " 'direct': 839,\n",
              " 'direction': 840,\n",
              " 'remember': 841,\n",
              " 'lot': 842,\n",
              " 'current': 843,\n",
              " 'met': 844,\n",
              " 'concerned': 845,\n",
              " 'efforts': 846,\n",
              " 'works': 847,\n",
              " 'decision': 848,\n",
              " 'note': 849,\n",
              " 'army': 850,\n",
              " 'step': 851,\n",
              " 'consider': 852,\n",
              " 'chance': 853,\n",
              " 'ways': 854,\n",
              " 'influence': 855,\n",
              " 'friend': 856,\n",
              " 'evening': 857,\n",
              " 'health': 858,\n",
              " 'groups': 859,\n",
              " 'stopped': 860,\n",
              " 'treatment': 861,\n",
              " 'closed': 862,\n",
              " 'maybe': 863,\n",
              " 'temperature': 864,\n",
              " 'effective': 865,\n",
              " 'j.': 866,\n",
              " '1961': 867,\n",
              " 'worked': 868,\n",
              " 'press': 869,\n",
              " 'daily': 870,\n",
              " 'spring': 871,\n",
              " 'wrong': 872,\n",
              " 'forms': 873,\n",
              " 'hot': 874,\n",
              " 'george': 875,\n",
              " 'clearly': 876,\n",
              " 'placed': 877,\n",
              " 'easy': 878,\n",
              " 'husband': 879,\n",
              " 'literature': 880,\n",
              " 'director': 881,\n",
              " 'science': 882,\n",
              " 'activity': 883,\n",
              " 'officer': 884,\n",
              " 'farm': 885,\n",
              " 'ask': 886,\n",
              " 'radio': 887,\n",
              " 'demand': 888,\n",
              " 'division': 889,\n",
              " 'fear': 890,\n",
              " 'news': 891,\n",
              " 'theory': 892,\n",
              " '6': 893,\n",
              " 'planning': 894,\n",
              " 'a.': 895,\n",
              " 'freedom': 896,\n",
              " 'reaction': 897,\n",
              " 'cars': 898,\n",
              " 'hotel': 899,\n",
              " 'movement': 900,\n",
              " 'saying': 901,\n",
              " 'approach': 902,\n",
              " 'account': 903,\n",
              " 'game': 904,\n",
              " 'beautiful': 905,\n",
              " 'growing': 906,\n",
              " 'piece': 907,\n",
              " 'meaning': 908,\n",
              " 'opportunity': 909,\n",
              " 'carried': 910,\n",
              " 'wide': 911,\n",
              " 'larger': 912,\n",
              " 'numbers': 913,\n",
              " '*-3': 914,\n",
              " 'despite': 915,\n",
              " 'justice': 916,\n",
              " 'poor': 917,\n",
              " \"wouldn't\": 918,\n",
              " 'somewhat': 919,\n",
              " 'running': 920,\n",
              " 'myself': 921,\n",
              " 'british': 922,\n",
              " 'designed': 923,\n",
              " 'de': 924,\n",
              " 'serious': 925,\n",
              " 'described': 926,\n",
              " 'truth': 927,\n",
              " 'corp.': 928,\n",
              " 'standard': 929,\n",
              " 'respect': 930,\n",
              " 'europe': 931,\n",
              " 'continue': 932,\n",
              " 'offer': 933,\n",
              " 'capital': 934,\n",
              " 'commission': 935,\n",
              " 'degree': 936,\n",
              " 'main': 937,\n",
              " 'include': 938,\n",
              " 'bed': 939,\n",
              " 'gives': 940,\n",
              " 'manner': 941,\n",
              " 'construction': 942,\n",
              " 'immediately': 943,\n",
              " 'stop': 944,\n",
              " 'progress': 945,\n",
              " 'buy': 946,\n",
              " 'herself': 947,\n",
              " 'management': 948,\n",
              " 'couple': 949,\n",
              " 'ones': 950,\n",
              " 'technical': 951,\n",
              " 'persons': 952,\n",
              " 'figures': 953,\n",
              " 'eye': 954,\n",
              " \"he's\": 955,\n",
              " \"i've\": 956,\n",
              " \"man's\": 957,\n",
              " 'chairman': 958,\n",
              " 'letters': 959,\n",
              " 'understanding': 960,\n",
              " 'arms': 961,\n",
              " 'hit': 962,\n",
              " 'fell': 963,\n",
              " 'activities': 964,\n",
              " 'feed': 965,\n",
              " 'blood': 966,\n",
              " 'executive': 967,\n",
              " 'james': 968,\n",
              " 'rise': 969,\n",
              " 'determined': 970,\n",
              " 'image': 971,\n",
              " 'agreement': 972,\n",
              " 'materials': 973,\n",
              " 'oh': 974,\n",
              " 'steps': 975,\n",
              " 'seven': 976,\n",
              " 'co.': 977,\n",
              " 'indicated': 978,\n",
              " 'staff': 979,\n",
              " 'responsibility': 980,\n",
              " 'types': 981,\n",
              " 'green': 982,\n",
              " 'learned': 983,\n",
              " 'served': 984,\n",
              " 'writing': 985,\n",
              " 'appear': 986,\n",
              " 'middle': 987,\n",
              " 's.': 988,\n",
              " 'c': 989,\n",
              " 'design': 990,\n",
              " 'window': 991,\n",
              " 'returned': 992,\n",
              " 'parts': 993,\n",
              " 'nuclear': 994,\n",
              " 'character': 995,\n",
              " '12': 996,\n",
              " 'forward': 997,\n",
              " 'straight': 998,\n",
              " 'slowly': 999,\n",
              " 'religion': 1000,\n",
              " ...}"
            ]
          },
          "metadata": {},
          "execution_count": 20
        }
      ],
      "source": [
        "tk_x.word_index"
      ]
    },
    {
      "cell_type": "code",
      "execution_count": 21,
      "id": "0cd2c8e8",
      "metadata": {
        "id": "0cd2c8e8"
      },
      "outputs": [],
      "source": [
        "x_data=tk_x.texts_to_sequences(x)\n",
        "y_data=tk_y.texts_to_sequences(y)"
      ]
    },
    {
      "cell_type": "code",
      "execution_count": 22,
      "id": "0a5b2671",
      "metadata": {
        "scrolled": true,
        "colab": {
          "base_uri": "https://localhost:8080/"
        },
        "id": "0a5b2671",
        "outputId": "dee7713c-1a7c-4f74-9204-3ee21199d6bd"
      },
      "outputs": [
        {
          "output_type": "execute_result",
          "data": {
            "text/plain": [
              "61254"
            ]
          },
          "metadata": {},
          "execution_count": 22
        }
      ],
      "source": [
        "len(x_data)"
      ]
    },
    {
      "cell_type": "code",
      "execution_count": 23,
      "id": "c3a333d5",
      "metadata": {
        "id": "c3a333d5"
      },
      "outputs": [],
      "source": [
        "final_x=pad_sequences(x_data,padding='post',value=0)\n",
        "final_y=pad_sequences(y_data,padding='post',value=0)"
      ]
    },
    {
      "cell_type": "code",
      "execution_count": 24,
      "id": "0165ba7f",
      "metadata": {
        "colab": {
          "base_uri": "https://localhost:8080/"
        },
        "id": "0165ba7f",
        "outputId": "d3cb872b-7ccf-4819-dcb1-ca590f1e2598"
      },
      "outputs": [
        {
          "output_type": "execute_result",
          "data": {
            "text/plain": [
              "(61254, 271)"
            ]
          },
          "metadata": {},
          "execution_count": 24
        }
      ],
      "source": [
        "final_x.shape"
      ]
    },
    {
      "cell_type": "code",
      "execution_count": 25,
      "id": "e39f1b89",
      "metadata": {
        "colab": {
          "base_uri": "https://localhost:8080/"
        },
        "id": "e39f1b89",
        "outputId": "59459377-ddc6-4bc1-fd9d-5c6110f60fca"
      },
      "outputs": [
        {
          "output_type": "execute_result",
          "data": {
            "text/plain": [
              "(61254, 271)"
            ]
          },
          "metadata": {},
          "execution_count": 25
        }
      ],
      "source": [
        "final_y.shape"
      ]
    },
    {
      "cell_type": "code",
      "execution_count": 26,
      "id": "37d60bfe",
      "metadata": {
        "id": "37d60bfe"
      },
      "outputs": [],
      "source": [
        "final_y=to_categorical(final_y)"
      ]
    },
    {
      "cell_type": "code",
      "execution_count": 27,
      "id": "9a772ec8",
      "metadata": {
        "colab": {
          "base_uri": "https://localhost:8080/"
        },
        "id": "9a772ec8",
        "outputId": "1201bb33-ca35-464c-95c2-f76adbf0736a"
      },
      "outputs": [
        {
          "output_type": "execute_result",
          "data": {
            "text/plain": [
              "(61254, 271, 14)"
            ]
          },
          "metadata": {},
          "execution_count": 27
        }
      ],
      "source": [
        "final_y.shape"
      ]
    },
    {
      "cell_type": "code",
      "execution_count": 28,
      "id": "be4b2824",
      "metadata": {
        "id": "be4b2824"
      },
      "outputs": [],
      "source": [
        "x_train,x_test,y_train,y_test=train_test_split(final_x,final_y,test_size=0.2,random_state=1)"
      ]
    },
    {
      "cell_type": "code",
      "execution_count": 29,
      "id": "142b5ce9",
      "metadata": {
        "colab": {
          "base_uri": "https://localhost:8080/"
        },
        "id": "142b5ce9",
        "outputId": "767fe78a-55f1-4c7a-82de-b6af27fd620e"
      },
      "outputs": [
        {
          "output_type": "execute_result",
          "data": {
            "text/plain": [
              "(49003, 271)"
            ]
          },
          "metadata": {},
          "execution_count": 29
        }
      ],
      "source": [
        "x_train.shape"
      ]
    },
    {
      "cell_type": "code",
      "execution_count": 30,
      "id": "3f525102",
      "metadata": {
        "colab": {
          "base_uri": "https://localhost:8080/"
        },
        "id": "3f525102",
        "outputId": "bbd2023c-89a8-4fac-ed81-97bee5a7507a"
      },
      "outputs": [
        {
          "output_type": "execute_result",
          "data": {
            "text/plain": [
              "(49003, 271, 14)"
            ]
          },
          "metadata": {},
          "execution_count": 30
        }
      ],
      "source": [
        "y_train.shape"
      ]
    },
    {
      "cell_type": "code",
      "execution_count": 31,
      "id": "d574f777",
      "metadata": {
        "colab": {
          "base_uri": "https://localhost:8080/"
        },
        "id": "d574f777",
        "outputId": "23ffb270-953a-49e5-a1b2-620ad0a71908"
      },
      "outputs": [
        {
          "output_type": "execute_result",
          "data": {
            "text/plain": [
              "(12251, 271)"
            ]
          },
          "metadata": {},
          "execution_count": 31
        }
      ],
      "source": [
        "x_test.shape"
      ]
    },
    {
      "cell_type": "code",
      "execution_count": 32,
      "id": "4aa0363c",
      "metadata": {
        "colab": {
          "base_uri": "https://localhost:8080/"
        },
        "id": "4aa0363c",
        "outputId": "eaf7bbaf-a7ed-4bc6-a232-064771ebc248"
      },
      "outputs": [
        {
          "output_type": "execute_result",
          "data": {
            "text/plain": [
              "(12251, 271, 14)"
            ]
          },
          "metadata": {},
          "execution_count": 32
        }
      ],
      "source": [
        "y_test.shape"
      ]
    },
    {
      "cell_type": "code",
      "execution_count": 34,
      "id": "2e9ef2fc",
      "metadata": {
        "id": "2e9ef2fc"
      },
      "outputs": [],
      "source": [
        "model=Sequential()\n",
        "model.add(InputLayer((271,)))\n",
        "model.add(Embedding(53233+1,5))\n",
        "model.add(Bidirectional(GRU(units=30,return_sequences=True)))\n",
        "model.add(TimeDistributed(Dense(units=14, activation='softmax')))"
      ]
    },
    {
      "cell_type": "code",
      "execution_count": 35,
      "id": "49992186",
      "metadata": {
        "colab": {
          "base_uri": "https://localhost:8080/"
        },
        "id": "49992186",
        "outputId": "f6e18d31-8aa5-419d-b011-3bb5229861a9"
      },
      "outputs": [
        {
          "output_type": "stream",
          "name": "stdout",
          "text": [
            "Model: \"sequential_1\"\n",
            "_________________________________________________________________\n",
            " Layer (type)                Output Shape              Param #   \n",
            "=================================================================\n",
            " embedding (Embedding)       (None, 271, 5)            266170    \n",
            "                                                                 \n",
            " bidirectional (Bidirection  (None, 271, 60)           6660      \n",
            " al)                                                             \n",
            "                                                                 \n",
            " time_distributed (TimeDist  (None, 271, 14)           854       \n",
            " ributed)                                                        \n",
            "                                                                 \n",
            "=================================================================\n",
            "Total params: 273684 (1.04 MB)\n",
            "Trainable params: 273684 (1.04 MB)\n",
            "Non-trainable params: 0 (0.00 Byte)\n",
            "_________________________________________________________________\n"
          ]
        }
      ],
      "source": [
        "model.summary()"
      ]
    },
    {
      "cell_type": "code",
      "execution_count": 36,
      "id": "6ffd6434",
      "metadata": {
        "id": "6ffd6434"
      },
      "outputs": [],
      "source": [
        "model.compile(optimizer='adam',loss='categorical_crossentropy',metrics=['accuracy'])"
      ]
    },
    {
      "cell_type": "code",
      "execution_count": 37,
      "id": "5bfab61a",
      "metadata": {
        "colab": {
          "base_uri": "https://localhost:8080/"
        },
        "id": "5bfab61a",
        "outputId": "322b5aea-03ac-483b-c0d0-270ad1bd9f9d"
      },
      "outputs": [
        {
          "output_type": "stream",
          "name": "stdout",
          "text": [
            "Epoch 1/15\n",
            "327/327 [==============================] - 44s 114ms/step - loss: 0.4264 - accuracy: 0.9242 - val_loss: 0.1882 - val_accuracy: 0.9382\n",
            "Epoch 2/15\n",
            "327/327 [==============================] - 16s 47ms/step - loss: 0.1645 - accuracy: 0.9456 - val_loss: 0.1445 - val_accuracy: 0.9566\n",
            "Epoch 3/15\n",
            "327/327 [==============================] - 13s 39ms/step - loss: 0.1051 - accuracy: 0.9708 - val_loss: 0.0672 - val_accuracy: 0.9796\n",
            "Epoch 4/15\n",
            "327/327 [==============================] - 10s 30ms/step - loss: 0.0451 - accuracy: 0.9888 - val_loss: 0.0310 - val_accuracy: 0.9925\n",
            "Epoch 5/15\n",
            "327/327 [==============================] - 9s 29ms/step - loss: 0.0236 - accuracy: 0.9943 - val_loss: 0.0200 - val_accuracy: 0.9950\n",
            "Epoch 6/15\n",
            "327/327 [==============================] - 8s 26ms/step - loss: 0.0158 - accuracy: 0.9962 - val_loss: 0.0154 - val_accuracy: 0.9960\n",
            "Epoch 7/15\n",
            "327/327 [==============================] - 9s 27ms/step - loss: 0.0120 - accuracy: 0.9969 - val_loss: 0.0131 - val_accuracy: 0.9963\n",
            "Epoch 8/15\n",
            "327/327 [==============================] - 9s 27ms/step - loss: 0.0098 - accuracy: 0.9973 - val_loss: 0.0117 - val_accuracy: 0.9965\n",
            "Epoch 9/15\n",
            "327/327 [==============================] - 9s 26ms/step - loss: 0.0084 - accuracy: 0.9975 - val_loss: 0.0108 - val_accuracy: 0.9967\n",
            "Epoch 10/15\n",
            "327/327 [==============================] - 8s 25ms/step - loss: 0.0074 - accuracy: 0.9978 - val_loss: 0.0102 - val_accuracy: 0.9969\n",
            "Epoch 11/15\n",
            "327/327 [==============================] - 9s 28ms/step - loss: 0.0066 - accuracy: 0.9980 - val_loss: 0.0099 - val_accuracy: 0.9970\n",
            "Epoch 12/15\n",
            "327/327 [==============================] - 9s 27ms/step - loss: 0.0061 - accuracy: 0.9982 - val_loss: 0.0097 - val_accuracy: 0.9971\n",
            "Epoch 13/15\n",
            "327/327 [==============================] - 8s 25ms/step - loss: 0.0056 - accuracy: 0.9983 - val_loss: 0.0095 - val_accuracy: 0.9972\n",
            "Epoch 14/15\n",
            "327/327 [==============================] - 9s 27ms/step - loss: 0.0052 - accuracy: 0.9984 - val_loss: 0.0095 - val_accuracy: 0.9972\n",
            "Epoch 15/15\n",
            "327/327 [==============================] - 8s 25ms/step - loss: 0.0049 - accuracy: 0.9985 - val_loss: 0.0094 - val_accuracy: 0.9973\n"
          ]
        },
        {
          "output_type": "execute_result",
          "data": {
            "text/plain": [
              "<keras.src.callbacks.History at 0x7ce6823dbe50>"
            ]
          },
          "metadata": {},
          "execution_count": 37
        }
      ],
      "source": [
        "model.fit(x_train,y_train,batch_size=120,epochs=15,validation_split=0.2)"
      ]
    },
    {
      "cell_type": "code",
      "execution_count": 38,
      "id": "10c7bb26",
      "metadata": {
        "colab": {
          "base_uri": "https://localhost:8080/"
        },
        "id": "10c7bb26",
        "outputId": "f44601d8-ca74-45f6-d308-3cd09d8938ad"
      },
      "outputs": [
        {
          "output_type": "execute_result",
          "data": {
            "text/plain": [
              "array([42477,  1939, 15131, 42478,     4,     0,     0,     0,     0,\n",
              "           0,     0,     0,     0,     0,     0,     0,     0,     0,\n",
              "           0,     0,     0,     0,     0,     0,     0,     0,     0,\n",
              "           0,     0,     0,     0,     0,     0,     0,     0,     0,\n",
              "           0,     0,     0,     0,     0,     0,     0,     0,     0,\n",
              "           0,     0,     0,     0,     0,     0,     0,     0,     0,\n",
              "           0,     0,     0,     0,     0,     0,     0,     0,     0,\n",
              "           0,     0,     0,     0,     0,     0,     0,     0,     0,\n",
              "           0,     0,     0,     0,     0,     0,     0,     0,     0,\n",
              "           0,     0,     0,     0,     0,     0,     0,     0,     0,\n",
              "           0,     0,     0,     0,     0,     0,     0,     0,     0,\n",
              "           0,     0,     0,     0,     0,     0,     0,     0,     0,\n",
              "           0,     0,     0,     0,     0,     0,     0,     0,     0,\n",
              "           0,     0,     0,     0,     0,     0,     0,     0,     0,\n",
              "           0,     0,     0,     0,     0,     0,     0,     0,     0,\n",
              "           0,     0,     0,     0,     0,     0,     0,     0,     0,\n",
              "           0,     0,     0,     0,     0,     0,     0,     0,     0,\n",
              "           0,     0,     0,     0,     0,     0,     0,     0,     0,\n",
              "           0,     0,     0,     0,     0,     0,     0,     0,     0,\n",
              "           0,     0,     0,     0,     0,     0,     0,     0,     0,\n",
              "           0,     0,     0,     0,     0,     0,     0,     0,     0,\n",
              "           0,     0,     0,     0,     0,     0,     0,     0,     0,\n",
              "           0,     0,     0,     0,     0,     0,     0,     0,     0,\n",
              "           0,     0,     0,     0,     0,     0,     0,     0,     0,\n",
              "           0,     0,     0,     0,     0,     0,     0,     0,     0,\n",
              "           0,     0,     0,     0,     0,     0,     0,     0,     0,\n",
              "           0,     0,     0,     0,     0,     0,     0,     0,     0,\n",
              "           0,     0,     0,     0,     0,     0,     0,     0,     0,\n",
              "           0,     0,     0,     0,     0,     0,     0,     0,     0,\n",
              "           0,     0,     0,     0,     0,     0,     0,     0,     0,\n",
              "           0], dtype=int32)"
            ]
          },
          "metadata": {},
          "execution_count": 38
        }
      ],
      "source": [
        "x_test[1]"
      ]
    },
    {
      "cell_type": "code",
      "execution_count": 39,
      "id": "6a51bcf4",
      "metadata": {
        "scrolled": false,
        "colab": {
          "base_uri": "https://localhost:8080/"
        },
        "id": "6a51bcf4",
        "outputId": "d1868994-a5e7-4bbc-c216-452ee2c292ac"
      },
      "outputs": [
        {
          "output_type": "stream",
          "name": "stdout",
          "text": [
            "383/383 [==============================] - 4s 8ms/step\n"
          ]
        }
      ],
      "source": [
        "y_pred=np.argmax(model.predict(x_test),axis=1)"
      ]
    },
    {
      "cell_type": "code",
      "execution_count": 40,
      "id": "34cb4ab7",
      "metadata": {
        "id": "34cb4ab7"
      },
      "outputs": [],
      "source": [
        "test=['Hi hello, how are you']"
      ]
    },
    {
      "cell_type": "code",
      "execution_count": 41,
      "id": "4f1cdfa8",
      "metadata": {
        "colab": {
          "base_uri": "https://localhost:8080/"
        },
        "id": "4f1cdfa8",
        "outputId": "a450eab3-3dc3-4e77-9a10-d6f21d2ba20b"
      },
      "outputs": [
        {
          "output_type": "execute_result",
          "data": {
            "text/plain": [
              "[[12576, 8758, 127, 29, 42]]"
            ]
          },
          "metadata": {},
          "execution_count": 41
        }
      ],
      "source": [
        "tk_x.texts_to_sequences(test)"
      ]
    },
    {
      "cell_type": "code",
      "execution_count": 42,
      "id": "c72eee20",
      "metadata": {
        "colab": {
          "base_uri": "https://localhost:8080/"
        },
        "id": "c72eee20",
        "outputId": "f935d9fd-b9ac-430e-dc1e-92d4b08b1601"
      },
      "outputs": [
        {
          "output_type": "execute_result",
          "data": {
            "text/plain": [
              "['hi hello how are you']"
            ]
          },
          "metadata": {},
          "execution_count": 42
        }
      ],
      "source": [
        "tk_x.sequences_to_texts(tk_x.texts_to_sequences(test))"
      ]
    },
    {
      "cell_type": "code",
      "execution_count": 43,
      "id": "d0ad6619",
      "metadata": {
        "id": "d0ad6619"
      },
      "outputs": [],
      "source": [
        "test1=pad_sequences(tk_x.texts_to_sequences(test),maxlen=271,padding='post',value=0)"
      ]
    },
    {
      "cell_type": "code",
      "execution_count": 44,
      "id": "550f975a",
      "metadata": {
        "scrolled": true,
        "colab": {
          "base_uri": "https://localhost:8080/"
        },
        "id": "550f975a",
        "outputId": "bd462343-7d24-4dd3-c660-49bf8ca6acec"
      },
      "outputs": [
        {
          "output_type": "stream",
          "name": "stdout",
          "text": [
            "1/1 [==============================] - 0s 85ms/step\n",
            "1/1 [==============================] - 0s 23ms/step\n"
          ]
        },
        {
          "output_type": "execute_result",
          "data": {
            "text/plain": [
              "array([11, 11,  8,  3,  9])"
            ]
          },
          "metadata": {},
          "execution_count": 44
        }
      ],
      "source": [
        "np.argmax(model.predict(test1)[0],axis=1)[np.argmax(model.predict(test1)[0],axis=1)!=0]"
      ]
    },
    {
      "cell_type": "code",
      "execution_count": 45,
      "id": "71e2221d",
      "metadata": {
        "colab": {
          "base_uri": "https://localhost:8080/"
        },
        "id": "71e2221d",
        "outputId": "2b79c01d-e985-4d0d-a545-fac08b1aadaf"
      },
      "outputs": [
        {
          "output_type": "execute_result",
          "data": {
            "text/plain": [
              "['prt prt adv verb pron']"
            ]
          },
          "metadata": {},
          "execution_count": 45
        }
      ],
      "source": [
        "tk_y.sequences_to_texts([[11, 11,  8,  3,  9]])"
      ]
    },
    {
      "cell_type": "code",
      "execution_count": 58,
      "id": "f160ed7d",
      "metadata": {
        "id": "f160ed7d"
      },
      "outputs": [],
      "source": []
    },
    {
      "cell_type": "code",
      "execution_count": null,
      "id": "ff5e9461",
      "metadata": {
        "id": "ff5e9461"
      },
      "outputs": [],
      "source": []
    },
    {
      "cell_type": "code",
      "execution_count": 46,
      "id": "29a924eb",
      "metadata": {
        "id": "29a924eb"
      },
      "outputs": [],
      "source": [
        "pickle.dump(tk_x,open(r\"C:\\Users\\HP\\Desktop\\pos\\tk_x.pkl\",'wb'))"
      ]
    },
    {
      "cell_type": "code",
      "execution_count": 58,
      "id": "6b2cec24",
      "metadata": {
        "id": "6b2cec24"
      },
      "outputs": [],
      "source": []
    },
    {
      "cell_type": "code",
      "execution_count": 47,
      "id": "32cd5214",
      "metadata": {
        "id": "32cd5214"
      },
      "outputs": [],
      "source": [
        "pickle.dump(tk_y,open(r'C:\\Users\\HP\\Desktop\\pos\\tk_y.pkl','wb'))\n",
        "pickle.dump(model,open(r\"C:\\Users\\HP\\Desktop\\pos\\model.pkl\",'wb'))"
      ]
    },
    {
      "cell_type": "code",
      "execution_count": 49,
      "id": "05fdc525",
      "metadata": {
        "id": "05fdc525"
      },
      "outputs": [],
      "source": [
        "x=\"My name is Kishore\"\n",
        "x=x.split()"
      ]
    },
    {
      "cell_type": "code",
      "execution_count": 50,
      "id": "44ed2737",
      "metadata": {
        "colab": {
          "base_uri": "https://localhost:8080/"
        },
        "id": "44ed2737",
        "outputId": "8647e88e-26c1-4387-b034-f802c8ed6efa"
      },
      "outputs": [
        {
          "output_type": "execute_result",
          "data": {
            "text/plain": [
              "['My', 'name', 'is', 'Kishore']"
            ]
          },
          "metadata": {},
          "execution_count": 50
        }
      ],
      "source": [
        "x"
      ]
    },
    {
      "cell_type": "code",
      "execution_count": 52,
      "id": "79016e0c",
      "metadata": {
        "id": "79016e0c"
      },
      "outputs": [],
      "source": []
    },
    {
      "cell_type": "code",
      "execution_count": 52,
      "id": "6b2b6d68",
      "metadata": {
        "id": "6b2b6d68"
      },
      "outputs": [],
      "source": [
        "model=pickle.load(open(r\"/content/C:\\Users\\HP\\Desktop\\pos\\model.pkl\",\"rb\"))\n",
        "tk_x=pickle.load(open(r\"/content/C:\\Users\\HP\\Desktop\\pos\\tk_x.pkl\",\"rb\"))\n",
        "tk_y=pickle.load(open(r\"/content/C:\\Users\\HP\\Desktop\\pos\\tk_y.pkl\",\"rb\"))"
      ]
    },
    {
      "cell_type": "code",
      "execution_count": 53,
      "id": "df77b7f4",
      "metadata": {
        "id": "df77b7f4"
      },
      "outputs": [],
      "source": [
        "test=['Hi hello, how are you']\n"
      ]
    },
    {
      "cell_type": "code",
      "source": [
        "tk_x.texts_to_sequences(test)"
      ],
      "metadata": {
        "colab": {
          "base_uri": "https://localhost:8080/"
        },
        "id": "SJZO70RDX_2R",
        "outputId": "e521d58c-7a86-4c65-fe58-e7641466e43b"
      },
      "id": "SJZO70RDX_2R",
      "execution_count": 54,
      "outputs": [
        {
          "output_type": "execute_result",
          "data": {
            "text/plain": [
              "[[12576, 8758, 127, 29, 42]]"
            ]
          },
          "metadata": {},
          "execution_count": 54
        }
      ]
    },
    {
      "cell_type": "code",
      "source": [
        "tk_x.sequences_to_texts(tk_x.texts_to_sequences(test))"
      ],
      "metadata": {
        "colab": {
          "base_uri": "https://localhost:8080/"
        },
        "id": "xsp5hgvRYA_J",
        "outputId": "be138a50-583a-4ba0-8881-2756fa8f95a8"
      },
      "id": "xsp5hgvRYA_J",
      "execution_count": 55,
      "outputs": [
        {
          "output_type": "execute_result",
          "data": {
            "text/plain": [
              "['hi hello how are you']"
            ]
          },
          "metadata": {},
          "execution_count": 55
        }
      ]
    },
    {
      "cell_type": "code",
      "source": [
        "test1=pad_sequences(tk_x.texts_to_sequences(test),maxlen=271,padding='post',value=0)"
      ],
      "metadata": {
        "id": "CZt4sQNbYCjC"
      },
      "id": "CZt4sQNbYCjC",
      "execution_count": 56,
      "outputs": []
    },
    {
      "cell_type": "code",
      "source": [
        "np.argmax(model.predict(test1)[0],axis=1)[np.argmax(model.predict(test1)[0],axis=1)!=0]"
      ],
      "metadata": {
        "colab": {
          "base_uri": "https://localhost:8080/"
        },
        "id": "cOs2qlH5YRrb",
        "outputId": "106e8376-c123-427a-c879-953a50371e0b"
      },
      "id": "cOs2qlH5YRrb",
      "execution_count": 57,
      "outputs": [
        {
          "output_type": "stream",
          "name": "stdout",
          "text": [
            "1/1 [==============================] - 1s 805ms/step\n",
            "1/1 [==============================] - 0s 23ms/step\n"
          ]
        },
        {
          "output_type": "execute_result",
          "data": {
            "text/plain": [
              "array([11, 11,  8,  3,  9])"
            ]
          },
          "metadata": {},
          "execution_count": 57
        }
      ]
    },
    {
      "cell_type": "code",
      "source": [
        "tk_y.sequences_to_texts([[11, 11,  8,  3,  9]])"
      ],
      "metadata": {
        "colab": {
          "base_uri": "https://localhost:8080/"
        },
        "id": "MNQRtVIRYUW1",
        "outputId": "6c366f6e-17dc-469f-a2ef-783727e662d8"
      },
      "id": "MNQRtVIRYUW1",
      "execution_count": 58,
      "outputs": [
        {
          "output_type": "execute_result",
          "data": {
            "text/plain": [
              "['prt prt adv verb pron']"
            ]
          },
          "metadata": {},
          "execution_count": 58
        }
      ]
    },
    {
      "cell_type": "code",
      "source": [],
      "metadata": {
        "id": "5uum9WW7YXrW"
      },
      "id": "5uum9WW7YXrW",
      "execution_count": null,
      "outputs": []
    }
  ],
  "metadata": {
    "kernelspec": {
      "display_name": "Python 3",
      "name": "python3"
    },
    "language_info": {
      "codemirror_mode": {
        "name": "ipython",
        "version": 3
      },
      "file_extension": ".py",
      "mimetype": "text/x-python",
      "name": "python",
      "nbconvert_exporter": "python",
      "pygments_lexer": "ipython3",
      "version": "3.11.4"
    },
    "colab": {
      "provenance": [],
      "gpuType": "T4"
    },
    "accelerator": "GPU"
  },
  "nbformat": 4,
  "nbformat_minor": 5
}